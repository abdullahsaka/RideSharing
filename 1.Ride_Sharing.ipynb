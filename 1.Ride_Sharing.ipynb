{
 "cells": [
  {
   "cell_type": "markdown",
   "metadata": {},
   "source": [
    "# Parameter Estimation on November 2018 #(Riding Service Dataset In Chicago)"
   ]
  },
  {
   "cell_type": "markdown",
   "metadata": {},
   "source": [
    "Data Exploration"
   ]
  },
  {
   "cell_type": "code",
   "execution_count": 1,
   "metadata": {},
   "outputs": [],
   "source": [
    "import pandas as pd\n",
    "import numpy as np\n",
    "import seaborn as sns\n",
    "import matplotlib.pyplot as plt"
   ]
  },
  {
   "cell_type": "code",
   "execution_count": 2,
   "metadata": {},
   "outputs": [],
   "source": [
    "Ride_data= pd.read_csv('~/Desktop/Transportation_Network_Providers_-_Trips.csv')"
   ]
  },
  {
   "cell_type": "code",
   "execution_count": null,
   "metadata": {},
   "outputs": [],
   "source": [
    "#pd.set_option('display.max_columns', None)\n",
    "#Ride_data.head()"
   ]
  },
  {
   "cell_type": "code",
   "execution_count": null,
   "metadata": {},
   "outputs": [],
   "source": [
    "#max(Ride_data['Trip Start Timestamp'])"
   ]
  },
  {
   "cell_type": "code",
   "execution_count": null,
   "metadata": {},
   "outputs": [],
   "source": [
    "#min(Ride_data['Trip Start Timestamp'])"
   ]
  },
  {
   "cell_type": "code",
   "execution_count": null,
   "metadata": {},
   "outputs": [],
   "source": [
    "#Ride_data.info()"
   ]
  },
  {
   "cell_type": "code",
   "execution_count": null,
   "metadata": {},
   "outputs": [],
   "source": [
    "#Ride_data.describe().transpose()"
   ]
  },
  {
   "cell_type": "code",
   "execution_count": null,
   "metadata": {},
   "outputs": [],
   "source": [
    "#Ride_data.isnull().sum()"
   ]
  },
  {
   "cell_type": "code",
   "execution_count": null,
   "metadata": {},
   "outputs": [],
   "source": [
    "#len(Ride_data)"
   ]
  },
  {
   "cell_type": "code",
   "execution_count": null,
   "metadata": {},
   "outputs": [],
   "source": [
    "#Ride_data['Trip ID'].nunique()"
   ]
  },
  {
   "cell_type": "code",
   "execution_count": null,
   "metadata": {},
   "outputs": [],
   "source": [
    "#Ride_data['Shared Trip Authorized'].value_counts()"
   ]
  },
  {
   "cell_type": "code",
   "execution_count": null,
   "metadata": {},
   "outputs": [],
   "source": [
    "#share_riding=Ride_data['Shared Trip Authorized'].value_counts()/len(Ride_data)\n",
    "#share_riding=share_riding.to_frame().reset_index()\n",
    "#share_riding=share_riding.rename(columns={\"index\": \"Share Riding\"})\n",
    "#sns.barplot(x='Share Riding',y='Shared Trip Authorized',data=share_riding,palette=\"Spectral\")"
   ]
  },
  {
   "cell_type": "code",
   "execution_count": null,
   "metadata": {},
   "outputs": [],
   "source": [
    "#hot_sources=Ride_data.groupby(['Pickup Community Area']).count()['Trip ID'].sort_values(ascending=False).head(10)\n",
    "#hot_sources=hot_sources.to_frame().reset_index()\n",
    "#hot_sources=hot_sources.rename(columns={\"Trip ID\": \"Frequency\"})\n",
    "#sns.barplot(x='Pickup Community Area',y='Frequency',data=hot_sources,palette=\"Spectral\")"
   ]
  },
  {
   "cell_type": "code",
   "execution_count": null,
   "metadata": {},
   "outputs": [],
   "source": [
    "#hot_dests=Ride_data.groupby(['Dropoff Community Area']).count()['Trip ID'].sort_values(ascending=False).head(10)\n",
    "#hot_dests=hot_dests.to_frame().reset_index()\n",
    "#hot_dests=hot_dests.rename(columns={\"Trip ID\": \"Frequency\"})\n",
    "#sns.barplot(x='Dropoff Community Area',y='Frequency',data=hot_dests,palette=\"deep\")"
   ]
  },
  {
   "cell_type": "code",
   "execution_count": null,
   "metadata": {},
   "outputs": [],
   "source": [
    "#trips_pooled=Ride_data.groupby(['Trips Pooled']).count()['Trip ID']\n",
    "#trips_pooled=trips_pooled.to_frame().reset_index()\n",
    "#trips_pooled=trips_pooled.rename(columns={\"Trips Pooled\": \"Size\", \"Trip ID\": \"Frequency\"})\n",
    "#sns.barplot(x='Size',y='Frequency',data=trips_pooled,palette=\"vlag\")"
   ]
  },
  {
   "cell_type": "code",
   "execution_count": null,
   "metadata": {},
   "outputs": [],
   "source": [
    "#sns.set_style('whitegrid')\n",
    "#sns.distplot(Ride_data.Fare)"
   ]
  },
  {
   "cell_type": "code",
   "execution_count": null,
   "metadata": {},
   "outputs": [],
   "source": [
    "#sns.set()\n",
    "#sns.distplot(Ride_data['Trip Miles'])"
   ]
  },
  {
   "cell_type": "markdown",
   "metadata": {},
   "source": [
    "-----"
   ]
  },
  {
   "cell_type": "markdown",
   "metadata": {},
   "source": [
    "Data Pre-processing"
   ]
  },
  {
   "cell_type": "code",
   "execution_count": 3,
   "metadata": {},
   "outputs": [],
   "source": [
    "sample_clean=Ride_data.dropna(subset=['Pickup Census Tract', 'Dropoff Census Tract']).reset_index()\n",
    "sample_clean.drop(['index'],axis=1,inplace=True)"
   ]
  },
  {
   "cell_type": "code",
   "execution_count": null,
   "metadata": {},
   "outputs": [],
   "source": [
    "#sample_clean.isnull().sum()"
   ]
  },
  {
   "cell_type": "code",
   "execution_count": null,
   "metadata": {},
   "outputs": [],
   "source": [
    "#sample_clean.info()"
   ]
  },
  {
   "cell_type": "code",
   "execution_count": null,
   "metadata": {},
   "outputs": [],
   "source": [
    "#sample_clean['Pickup Census Tract'].nunique()"
   ]
  },
  {
   "cell_type": "code",
   "execution_count": null,
   "metadata": {},
   "outputs": [],
   "source": [
    "#sample_clean['Dropoff Census Tract'].nunique()"
   ]
  },
  {
   "cell_type": "code",
   "execution_count": 4,
   "metadata": {},
   "outputs": [],
   "source": [
    "def is_weekend(day):\n",
    "    if day in [6,7]:\n",
    "        return 1\n",
    "    else:\n",
    "        return 0"
   ]
  },
  {
   "cell_type": "code",
   "execution_count": 5,
   "metadata": {},
   "outputs": [],
   "source": [
    "def feature_extraction(riding):\n",
    "    riding['Timestamp']    = pd.to_datetime(riding['Trip Start Timestamp'])\n",
    "    riding['Date']         = riding['Timestamp'].dt.date\n",
    "    riding['Hour']         = riding['Timestamp'].dt.hour\n",
    "    riding['DayofWeek']    = riding['Timestamp'].dt.dayofweek\n",
    "    riding['isWeekend']    = riding['DayofWeek'].apply(is_weekend)\n",
    "    return riding"
   ]
  },
  {
   "cell_type": "code",
   "execution_count": 6,
   "metadata": {},
   "outputs": [],
   "source": [
    "sample_clean=feature_extraction(sample_clean)\n",
    "sample_clean['Date']=sample_clean['Date'].apply(lambda x: x.strftime('%Y-%m-%d'))"
   ]
  },
  {
   "cell_type": "markdown",
   "metadata": {},
   "source": [
    "------"
   ]
  },
  {
   "cell_type": "markdown",
   "metadata": {},
   "source": [
    "Price Analysis - November 10"
   ]
  },
  {
   "cell_type": "code",
   "execution_count": null,
   "metadata": {},
   "outputs": [],
   "source": [
    "#riding_subset= sample_clean[sample_clean['Date']=='2018-11-10']"
   ]
  },
  {
   "cell_type": "code",
   "execution_count": null,
   "metadata": {},
   "outputs": [],
   "source": [
    "#riding_subset['Pickup Census Tract'].nunique()"
   ]
  },
  {
   "cell_type": "code",
   "execution_count": null,
   "metadata": {},
   "outputs": [],
   "source": [
    "#riding_subset['Dropoff Census Tract'].nunique()"
   ]
  },
  {
   "cell_type": "code",
   "execution_count": null,
   "metadata": {},
   "outputs": [],
   "source": [
    "#riding_subset.groupby(['Pickup Census Tract','Dropoff Census Tract']).count()['Fare'].sort_values(ascending=False)"
   ]
  },
  {
   "cell_type": "code",
   "execution_count": null,
   "metadata": {},
   "outputs": [],
   "source": [
    "#riding_subset_1=riding_subset.loc[(riding_subset.Hour>=0) & (riding_subset.Hour<7)] "
   ]
  },
  {
   "cell_type": "code",
   "execution_count": null,
   "metadata": {},
   "outputs": [],
   "source": [
    "#riding_subset_2=riding_subset.loc[(riding_subset.Hour>=7) & (riding_subset.Hour<10)]\n",
    "#riding_subset_2.head()"
   ]
  },
  {
   "cell_type": "code",
   "execution_count": null,
   "metadata": {},
   "outputs": [],
   "source": [
    "#riding_subset_3=riding_subset.loc[(riding_subset.Hour>=10) & (riding_subset.Hour<16)] "
   ]
  },
  {
   "cell_type": "code",
   "execution_count": null,
   "metadata": {},
   "outputs": [],
   "source": [
    "#riding_subset_4=riding_subset.loc[(riding_subset.Hour>=16) & (riding_subset.Hour<20)] "
   ]
  },
  {
   "cell_type": "code",
   "execution_count": null,
   "metadata": {},
   "outputs": [],
   "source": [
    "#riding_subset_5=riding_subset.loc[(riding_subset.Hour>=20) & (riding_subset.Hour<24)] "
   ]
  },
  {
   "cell_type": "code",
   "execution_count": null,
   "metadata": {},
   "outputs": [],
   "source": [
    "#exclusive_1=riding_subset_1[riding_subset_1['Shared Trip Authorized']==False].groupby(['Pickup Census Tract','Dropoff Census Tract']).mean()['Fare'].sort_values(ascending=False).reset_index()\n",
    "#exclusive_1=pd.DataFrame(exclusive_1)\n",
    "#exclusive_1.head()"
   ]
  },
  {
   "cell_type": "code",
   "execution_count": null,
   "metadata": {},
   "outputs": [],
   "source": [
    "#shared_1=riding_subset_1[riding_subset_1['Shared Trip Authorized']==True].groupby(['Pickup Census Tract','Dropoff Census Tract']).mean()['Fare'].sort_values(ascending=False).reset_index()\n",
    "#shared_1=pd.DataFrame(shared_1)\n",
    "#shared_1.head()"
   ]
  },
  {
   "cell_type": "markdown",
   "metadata": {},
   "source": [
    "----"
   ]
  },
  {
   "cell_type": "markdown",
   "metadata": {},
   "source": [
    "Baseline Model - Price Estimation"
   ]
  },
  {
   "cell_type": "code",
   "execution_count": 7,
   "metadata": {},
   "outputs": [],
   "source": [
    "def time_period(isWeekend,hour):\n",
    "    if isWeekend==0:\n",
    "        if hour in [0,1,2,3,4,5,6]:\n",
    "             return 1\n",
    "        elif hour in [7,8,9] :\n",
    "             return 2\n",
    "        elif hour in [10,11,12,13,14] :\n",
    "             return 3\n",
    "        elif hour in [15,16,17,18] :\n",
    "             return 4\n",
    "        else:\n",
    "            return 5\n",
    "    elif isWeekend==1:\n",
    "        if hour in [0,1,2,3,4,5,6,7,8,9]:\n",
    "             return 1\n",
    "        elif hour in [10,11,12,13,14,15,16]:\n",
    "             return 2   \n",
    "        else:\n",
    "             return 3"
   ]
  },
  {
   "cell_type": "code",
   "execution_count": 8,
   "metadata": {},
   "outputs": [],
   "source": [
    "sample_clean['Period']=sample_clean.apply(lambda x: time_period(x['isWeekend'], x['Hour']), axis=1)"
   ]
  },
  {
   "cell_type": "code",
   "execution_count": 9,
   "metadata": {},
   "outputs": [],
   "source": [
    "day_list     = list(sample_clean.Date.unique())\n",
    "day_period   = list(sample_clean.Period.unique())\n",
    "df_shared    = {}\n",
    "df_exclusive = {}\n",
    "for d in day_list :\n",
    "    for p in day_period :\n",
    "        df_day_period           = sample_clean.loc[(sample_clean.Date==d) & (sample_clean.Period==p)]\n",
    "        df_shared    [d,p] = df_day_period[df_day_period['Shared Trip Authorized']==True].groupby(['Pickup Census Tract','Dropoff Census Tract']).mean()['Fare'].sort_values(ascending=False).reset_index()\n",
    "        df_exclusive [d,p] = df_day_period[df_day_period['Shared Trip Authorized']==False].groupby(['Pickup Census Tract','Dropoff Census Tract']).mean()['Fare'].sort_values(ascending=False).reset_index()"
   ]
  },
  {
   "cell_type": "code",
   "execution_count": 10,
   "metadata": {},
   "outputs": [],
   "source": [
    "nrow=len(df_shared.keys())\n",
    "df_shr=pd.DataFrame()\n",
    "for i in range(nrow):\n",
    "    df_inter=df_shared[list(df_shared.keys())[i]]\n",
    "    df_inter=df_inter.assign(Date=list(df_shared.keys())[i][0])\n",
    "    df_inter=df_inter.assign(Period=list(df_shared.keys())[i][1])\n",
    "    df_shr=df_shr.append(df_inter)"
   ]
  },
  {
   "cell_type": "code",
   "execution_count": 11,
   "metadata": {},
   "outputs": [],
   "source": [
    "df_shr = df_shr.assign(Trip_Authorized=False)"
   ]
  },
  {
   "cell_type": "code",
   "execution_count": 12,
   "metadata": {},
   "outputs": [],
   "source": [
    "nrow=len(df_exclusive.keys())\n",
    "df_exc=pd.DataFrame()\n",
    "for i in range(nrow):\n",
    "    df_inter=df_exclusive[list(df_exclusive.keys())[i]]\n",
    "    df_inter=df_inter.assign(Date=list(df_exclusive.keys())[i][0])\n",
    "    df_inter=df_inter.assign(Period=list(df_exclusive.keys())[i][1])\n",
    "    df_exc=df_exc.append(df_inter)"
   ]
  },
  {
   "cell_type": "code",
   "execution_count": 13,
   "metadata": {},
   "outputs": [],
   "source": [
    "df_exc = df_exc.assign(Trip_Authorized=True)"
   ]
  },
  {
   "cell_type": "code",
   "execution_count": 14,
   "metadata": {},
   "outputs": [],
   "source": [
    "est_riding=pd.concat([df_exc,df_shr],axis=0)"
   ]
  },
  {
   "cell_type": "code",
   "execution_count": 15,
   "metadata": {},
   "outputs": [],
   "source": [
    "pd.set_option('display.max_columns', None)\n",
    "upd_riding_data=pd.merge(left=sample_clean, right=est_riding, left_on=['Pickup Census Tract','Dropoff Census Tract','Date','Period','Shared Trip Authorized'], right_on=['Pickup Census Tract','Dropoff Census Tract','Date','Period','Trip_Authorized'],how='inner')"
   ]
  },
  {
   "cell_type": "code",
   "execution_count": 16,
   "metadata": {},
   "outputs": [],
   "source": [
    "final_data=upd_riding_data[['Trip ID','Date','Period','Pickup Census Tract','Dropoff Census Tract','Shared Trip Authorized','Fare_x','Fare_y']]\n",
    "#final_data.head()"
   ]
  },
  {
   "cell_type": "code",
   "execution_count": 17,
   "metadata": {},
   "outputs": [],
   "source": [
    "final_data=final_data.rename(columns={\"Fare_x\": \"Fare\", \"Fare_y\": \"Estimated price_other option\"})"
   ]
  },
  {
   "cell_type": "markdown",
   "metadata": {},
   "source": [
    "-------"
   ]
  },
  {
   "cell_type": "markdown",
   "metadata": {},
   "source": [
    "Baseline Model - Performance"
   ]
  },
  {
   "cell_type": "code",
   "execution_count": null,
   "metadata": {},
   "outputs": [],
   "source": [
    "#shared_per=len(final_data[(final_data['Shared Trip Authorized']==True) & (final_data['Estimated price_other option']>final_data.Fare)])/ len(final_data[final_data['Shared Trip Authorized']==True])\n",
    "#round(shared_per,3)"
   ]
  },
  {
   "cell_type": "code",
   "execution_count": null,
   "metadata": {},
   "outputs": [],
   "source": [
    "#exclusive_per=len(final_data[(final_data['Shared Trip Authorized']==False) & (final_data.Fare>final_data['Estimated price_other option'])])/ len(final_data[final_data['Shared Trip Authorized']==False])\n",
    "#round(exclusive_per,3)"
   ]
  },
  {
   "cell_type": "markdown",
   "metadata": {},
   "source": [
    "-----"
   ]
  },
  {
   "cell_type": "markdown",
   "metadata": {},
   "source": [
    "Save Price Estimation Of Baseline Model"
   ]
  },
  {
   "cell_type": "code",
   "execution_count": null,
   "metadata": {},
   "outputs": [],
   "source": [
    "#final_data.to_csv('Final Table.csv',index=False)"
   ]
  },
  {
   "cell_type": "markdown",
   "metadata": {},
   "source": [
    "-----"
   ]
  },
  {
   "cell_type": "markdown",
   "metadata": {},
   "source": [
    "Validation - Sample in Excel"
   ]
  },
  {
   "cell_type": "code",
   "execution_count": null,
   "metadata": {},
   "outputs": [],
   "source": [
    "#trial=sample_clean[(sample_clean.Date=='2018-11-10') & (sample_clean.Period==3)]"
   ]
  },
  {
   "cell_type": "code",
   "execution_count": null,
   "metadata": {},
   "outputs": [],
   "source": [
    "#trial['Shared Trip Authorized'].value_counts()"
   ]
  },
  {
   "cell_type": "code",
   "execution_count": null,
   "metadata": {},
   "outputs": [],
   "source": [
    "#trial.to_csv('Left Join Data.csv',index=False)"
   ]
  },
  {
   "cell_type": "code",
   "execution_count": null,
   "metadata": {},
   "outputs": [],
   "source": [
    "#subset=est_dist[(est_dist.Date=='2018-11-10') & (est_dist.Period==3)]"
   ]
  },
  {
   "cell_type": "code",
   "execution_count": null,
   "metadata": {},
   "outputs": [],
   "source": [
    "#len(subset)"
   ]
  },
  {
   "cell_type": "code",
   "execution_count": null,
   "metadata": {},
   "outputs": [],
   "source": [
    "#subset.to_csv('Right Join Data.csv',index=False)"
   ]
  },
  {
   "cell_type": "code",
   "execution_count": null,
   "metadata": {},
   "outputs": [],
   "source": [
    "#upd=upd_dist_data[(upd_dist_data.Date=='2018-11-10') & (upd_dist_data.Period==3)]"
   ]
  },
  {
   "cell_type": "code",
   "execution_count": null,
   "metadata": {},
   "outputs": [],
   "source": [
    "#last_table=upd_dist_data[(upd_dist_data.Date=='2018-11-10') & (upd_dist_data.Period==3)]"
   ]
  },
  {
   "cell_type": "code",
   "execution_count": null,
   "metadata": {},
   "outputs": [],
   "source": [
    "#last_table.to_csv('Combined.csv',index=False)"
   ]
  },
  {
   "cell_type": "code",
   "execution_count": null,
   "metadata": {},
   "outputs": [],
   "source": [
    "#last_subset=pd.DataFrame(trial.groupby(['Pickup Census Tract','Dropoff Census Tract']).count()['Trip ID'].sort_values(ascending=False)).reset_index()"
   ]
  },
  {
   "cell_type": "code",
   "execution_count": null,
   "metadata": {},
   "outputs": [],
   "source": [
    "#last_subset['Pickup Census Tract'][0]"
   ]
  },
  {
   "cell_type": "code",
   "execution_count": null,
   "metadata": {},
   "outputs": [],
   "source": [
    "#last_subset['Dropoff Census Tract'][0]"
   ]
  },
  {
   "cell_type": "markdown",
   "metadata": {},
   "source": [
    "--------"
   ]
  },
  {
   "cell_type": "markdown",
   "metadata": {},
   "source": [
    "Baseline Model - Distance Estimation"
   ]
  },
  {
   "cell_type": "code",
   "execution_count": null,
   "metadata": {},
   "outputs": [],
   "source": [
    "#day_list     = list(sample_clean.Date.unique())\n",
    "#day_period   = list(sample_clean.Period.unique())\n",
    "#df_share    = {}\n",
    "#df_exclusiv = {}\n",
    "#for d in day_list :\n",
    "    #for p in day_period :\n",
    "        #df_day_per           = sample_clean.loc[(sample_clean.Date==d) & (sample_clean.Period==p)]\n",
    "        #df_share    [d,p] = df_day_per[df_day_per['Shared Trip Authorized']==True].groupby(['Pickup Census Tract','Dropoff Census Tract']).mean()['Trip Miles'].sort_values(ascending=False).reset_index()\n",
    "        #df_exclusiv [d,p] = df_day_per[df_day_per['Shared Trip Authorized']==False].groupby(['Pickup Census Tract','Dropoff Census Tract']).mean()['Trip Miles'].sort_values(ascending=False).reset_index()"
   ]
  },
  {
   "cell_type": "code",
   "execution_count": null,
   "metadata": {},
   "outputs": [],
   "source": [
    "#nrow=len(df_share.keys())\n",
    "#df_shr_dist=pd.DataFrame()\n",
    "#for i in range(nrow):\n",
    "    #df_inter=df_share[list(df_share.keys())[i]]\n",
    "    #df_inter=df_inter.assign(Date=list(df_share.keys())[i][0])\n",
    "    #df_inter=df_inter.assign(Period=list(df_share.keys())[i][1])\n",
    "    #df_shr_dist=df_shr_dist.append(df_inter)\n",
    "#df_shr_dist = df_shr_dist.assign(Trip_Authorized=False)"
   ]
  },
  {
   "cell_type": "code",
   "execution_count": null,
   "metadata": {},
   "outputs": [],
   "source": [
    "#nrow=len(df_exclusiv.keys())\n",
    "#df_exc_dist=pd.DataFrame()\n",
    "#for i in range(nrow):\n",
    "    #df_inter=df_exclusiv[list(df_exclusiv.keys())[i]]\n",
    "    #df_inter=df_inter.assign(Date=list(df_exclusiv.keys())[i][0])\n",
    "    #df_inter=df_inter.assign(Period=list(df_exclusiv.keys())[i][1])\n",
    "    #df_exc_dist=df_exc_dist.append(df_inter)\n",
    "#df_exc_dist = df_exc_dist.assign(Trip_Authorized=True)"
   ]
  },
  {
   "cell_type": "code",
   "execution_count": null,
   "metadata": {},
   "outputs": [],
   "source": [
    "#est_dist=pd.concat([df_exc_dist,df_shr_dist],axis=0)"
   ]
  },
  {
   "cell_type": "code",
   "execution_count": null,
   "metadata": {},
   "outputs": [],
   "source": [
    "#pd.set_option('display.max_columns', None)\n",
    "#upd_dist_data=pd.merge(left=sample_clean, right=est_dist, left_on=['Pickup Census Tract','Dropoff Census Tract','Date','Period','Shared Trip Authorized'], right_on=['Pickup Census Tract','Dropoff Census Tract','Date','Period','Trip_Authorized'],how='inner')\n",
    "#upd_dist_data=upd_dist_data.rename(columns={'Trip Miles_x':'Actual','Trip Miles_y':'Estimated'})\n",
    "#upd_dist_data.head()"
   ]
  },
  {
   "cell_type": "code",
   "execution_count": null,
   "metadata": {},
   "outputs": [],
   "source": [
    "#shared_dist_per=len(upd_dist_data[(upd_dist_data['Shared Trip Authorized']==True) & (upd_dist_data['Estimated']<upd_dist_data.Actual)])/ len(upd_dist_data[upd_dist_data['Shared Trip Authorized']==True])\n",
    "#round(shared_dist_per,3)"
   ]
  },
  {
   "cell_type": "code",
   "execution_count": null,
   "metadata": {},
   "outputs": [],
   "source": [
    "#exclusive_dist_per=len(upd_dist_data[(upd_dist_data['Shared Trip Authorized']==False) & (upd_dist_data.Actual<upd_dist_data['Estimated'])])/ len(upd_dist_data[upd_dist_data['Shared Trip Authorized']==False])\n",
    "#round(exclusive_dist_per,3)"
   ]
  },
  {
   "cell_type": "code",
   "execution_count": null,
   "metadata": {},
   "outputs": [],
   "source": [
    "#def add_dist(dataset):\n",
    "    #if dataset['Shared Trip Authorized']==True:\n",
    "        #AdditionDistance=dataset.Actual-dataset.Estimated\n",
    "        #return AdditionDistance\n",
    "    #else:\n",
    "        #AdditionDistance=dataset.Estimated-dataset.Actual\n",
    "        #return AdditionDistance"
   ]
  },
  {
   "cell_type": "code",
   "execution_count": null,
   "metadata": {},
   "outputs": [],
   "source": [
    "#upd_dist_data['AdditionDistance'] = upd_dist_data[['Shared Trip Authorized','Actual','Estimated']].apply (lambda row: add_dist(row), axis=1)\n",
    "#upd_dist_data.head()"
   ]
  },
  {
   "cell_type": "markdown",
   "metadata": {},
   "source": [
    "-----"
   ]
  },
  {
   "cell_type": "markdown",
   "metadata": {},
   "source": [
    "Updated Distance Model"
   ]
  },
  {
   "cell_type": "code",
   "execution_count": 18,
   "metadata": {},
   "outputs": [],
   "source": [
    "from math import radians, cos, sin, asin, sqrt \n",
    "def distance(lat1, lat2, lon1, lon2): \n",
    "      \n",
    "    # The math module contains a function named \n",
    "    # radians which converts from degrees to radians. \n",
    "    lon1 = radians(lon1) \n",
    "    lon2 = radians(lon2) \n",
    "    lat1 = radians(lat1) \n",
    "    lat2 = radians(lat2) \n",
    "       \n",
    "    # Haversine formula  \n",
    "    dlon = lon2 - lon1  \n",
    "    dlat = lat2 - lat1 \n",
    "    a = sin(dlat / 2)**2 + cos(lat1) * cos(lat2) * sin(dlon / 2)**2\n",
    "  \n",
    "    c = 2 * asin(sqrt(a))  \n",
    "     \n",
    "    # Radius of earth in kilometers. Use 3956 for miles \n",
    "    r = 3956\n",
    "       \n",
    "    # calculate the result \n",
    "    return(c * r) "
   ]
  },
  {
   "cell_type": "code",
   "execution_count": 19,
   "metadata": {},
   "outputs": [],
   "source": [
    "sample_riding=sample_clean.copy()\n",
    "#sample_riding.head()"
   ]
  },
  {
   "cell_type": "code",
   "execution_count": 20,
   "metadata": {},
   "outputs": [],
   "source": [
    "def dist(dataset):\n",
    "    if dataset['Shared Trip Authorized']==False:\n",
    "        EstDistance=dataset['Trip Miles']*1.3\n",
    "        return EstDistance\n",
    "    else:\n",
    "        EstDistance=distance(dataset['Pickup Centroid Longitude'],dataset['Dropoff Centroid Longitude'],dataset['Pickup Centroid Latitude'],dataset['Dropoff Centroid Latitude'])\n",
    "        return EstDistance"
   ]
  },
  {
   "cell_type": "code",
   "execution_count": 21,
   "metadata": {},
   "outputs": [],
   "source": [
    "sample_riding['EstDistance'] = sample_riding[['Shared Trip Authorized','Trip Miles','Pickup Centroid Longitude','Dropoff Centroid Longitude','Pickup Centroid Latitude','Dropoff Centroid Latitude']].apply(lambda row: dist(row), axis=1)"
   ]
  },
  {
   "cell_type": "code",
   "execution_count": null,
   "metadata": {},
   "outputs": [],
   "source": [
    "#pd.set_option('display.max_columns', None)\n",
    "#sample_riding.head()"
   ]
  },
  {
   "cell_type": "code",
   "execution_count": null,
   "metadata": {},
   "outputs": [],
   "source": [
    "#shared_dist_up=len(sample_riding[(sample_riding['Shared Trip Authorized']==True) & (sample_riding['EstDistance']<sample_riding['Trip Miles'])])/ len(sample_riding[sample_riding['Shared Trip Authorized']==True])\n",
    "#round(shared_dist_up,3)"
   ]
  },
  {
   "cell_type": "code",
   "execution_count": null,
   "metadata": {},
   "outputs": [],
   "source": [
    "#exclusive_dist_up=len(sample_riding[(sample_riding['Shared Trip Authorized']==False) & (sample_riding['Trip Miles']<sample_riding['EstDistance'])])/ len(sample_riding[sample_riding['Shared Trip Authorized']==False])\n",
    "#round(exclusive_dist_up,3)"
   ]
  },
  {
   "cell_type": "markdown",
   "metadata": {},
   "source": [
    "-------"
   ]
  },
  {
   "cell_type": "markdown",
   "metadata": {},
   "source": [
    "Updated Price Model"
   ]
  },
  {
   "cell_type": "code",
   "execution_count": 22,
   "metadata": {},
   "outputs": [],
   "source": [
    "day_list     = list(sample_clean.Date.unique())\n",
    "day_period   = list(sample_clean.Period.unique())\n",
    "df_shared_dist    = {}\n",
    "df_exclusive_dist = {}\n",
    "for d in day_list :\n",
    "    for p in day_period :\n",
    "        df_day_period           = sample_clean.loc[(sample_clean.Date==d) & (sample_clean.Period==p)]\n",
    "        df_shared_dist    [d,p] = df_day_period[df_day_period['Shared Trip Authorized']==True].groupby(['Pickup Census Tract','Dropoff Census Tract']).mean()['Trip Miles'].sort_values(ascending=False).reset_index()\n",
    "        df_exclusive_dist [d,p] = df_day_period[df_day_period['Shared Trip Authorized']==False].groupby(['Pickup Census Tract','Dropoff Census Tract']).mean()['Trip Miles'].sort_values(ascending=False).reset_index()"
   ]
  },
  {
   "cell_type": "code",
   "execution_count": 23,
   "metadata": {},
   "outputs": [],
   "source": [
    "nrow=len(df_shared_dist.keys())\n",
    "df_shr_distance=pd.DataFrame()\n",
    "for i in range(nrow):\n",
    "    df_inter=df_shared_dist[list(df_shared_dist.keys())[i]]\n",
    "    df_inter=df_inter.assign(Date=list(df_shared_dist.keys())[i][0])\n",
    "    df_inter=df_inter.assign(Period=list(df_shared_dist.keys())[i][1])\n",
    "    df_shr_distance=df_shr_distance.append(df_inter)"
   ]
  },
  {
   "cell_type": "code",
   "execution_count": 24,
   "metadata": {},
   "outputs": [],
   "source": [
    "df_shr_distance= df_shr_distance.assign(Trip_Authorized=False)"
   ]
  },
  {
   "cell_type": "code",
   "execution_count": 25,
   "metadata": {},
   "outputs": [],
   "source": [
    "nrow=len(df_exclusive_dist.keys())\n",
    "df_exc_distance=pd.DataFrame()\n",
    "for i in range(nrow):\n",
    "    df_inter=df_exclusive_dist[list(df_exclusive_dist.keys())[i]]\n",
    "    df_inter=df_inter.assign(Date=list(df_exclusive_dist.keys())[i][0])\n",
    "    df_inter=df_inter.assign(Period=list(df_exclusive_dist.keys())[i][1])\n",
    "    df_exc_distance=df_exc_distance.append(df_inter)"
   ]
  },
  {
   "cell_type": "code",
   "execution_count": 26,
   "metadata": {},
   "outputs": [],
   "source": [
    "df_exc_distance = df_exc_distance.assign(Trip_Authorized=True)"
   ]
  },
  {
   "cell_type": "code",
   "execution_count": 27,
   "metadata": {},
   "outputs": [],
   "source": [
    "pd.set_option('display.max_columns', None)\n",
    "df_exc_combined=pd.merge(left=df_exc, right=df_exc_distance, left_on=['Pickup Census Tract','Dropoff Census Tract','Date','Period'], right_on=['Pickup Census Tract','Dropoff Census Tract','Date','Period'],how='inner')\n",
    "df_exc_combined=df_exc_combined.drop(['Trip_Authorized_y'],axis=1)\n",
    "df_exc_combined=df_exc_combined.rename(columns={'Trip_Authorized_x':'Trip_Authorized'})\n",
    "df_exc_combined['Price_per_mile']=df_exc_combined['Fare']/df_exc_combined['Trip Miles']"
   ]
  },
  {
   "cell_type": "code",
   "execution_count": 28,
   "metadata": {},
   "outputs": [],
   "source": [
    "pd.set_option('display.max_columns', None)\n",
    "df_shr_combined=pd.merge(left=df_shr, right=df_shr_distance, left_on=['Pickup Census Tract','Dropoff Census Tract','Date','Period'], right_on=['Pickup Census Tract','Dropoff Census Tract','Date','Period'],how='inner')\n",
    "df_shr_combined=df_shr_combined.drop(['Trip_Authorized_y'],axis=1)\n",
    "df_shr_combined=df_shr_combined.rename(columns={'Trip_Authorized_x':'Trip_Authorized'})\n",
    "df_shr_combined['Price_per_mile']=df_shr_combined['Fare']/df_shr_combined['Trip Miles']"
   ]
  },
  {
   "cell_type": "code",
   "execution_count": 29,
   "metadata": {},
   "outputs": [],
   "source": [
    "est_riding_combined=pd.concat([df_exc_combined,df_shr_combined],axis=0)"
   ]
  },
  {
   "cell_type": "code",
   "execution_count": 30,
   "metadata": {},
   "outputs": [],
   "source": [
    "pd.set_option('display.max_columns', None)\n",
    "upd_combined_riding_data=pd.merge(left=sample_clean, right=est_riding_combined, left_on=['Pickup Census Tract','Dropoff Census Tract','Date','Period','Shared Trip Authorized'], right_on=['Pickup Census Tract','Dropoff Census Tract','Date','Period','Trip_Authorized'],how='inner')"
   ]
  },
  {
   "cell_type": "code",
   "execution_count": 31,
   "metadata": {},
   "outputs": [],
   "source": [
    "upd_combined_riding_data['EstPrice']=upd_combined_riding_data['Price_per_mile']*upd_combined_riding_data['Trip Miles_x']"
   ]
  },
  {
   "cell_type": "code",
   "execution_count": 32,
   "metadata": {},
   "outputs": [],
   "source": [
    "upd_price_data=upd_combined_riding_data[['Trip ID','Trip Start Timestamp','Trip End Timestamp','Trip Seconds','Trip Miles_x','Pickup Census Tract','Dropoff Census Tract','Fare_x','Shared Trip Authorized','Trips Pooled','Date','Hour','DayofWeek','isWeekend','Period','EstPrice']]"
   ]
  },
  {
   "cell_type": "code",
   "execution_count": 33,
   "metadata": {},
   "outputs": [],
   "source": [
    "final_upd_data=upd_combined_riding_data[['Trip ID','Date','Period','Pickup Census Tract','Dropoff Census Tract','Shared Trip Authorized','Fare_x','EstPrice']]\n",
    "final_upd_data=final_upd_data.rename(columns={\"Fare_x\": \"Fare\", \"EstPrice\": \"Estimated price_other option\"})\n",
    "#final_upd_data.head()"
   ]
  },
  {
   "cell_type": "markdown",
   "metadata": {},
   "source": [
    "-------------"
   ]
  },
  {
   "cell_type": "markdown",
   "metadata": {},
   "source": [
    "Save Price Estimation of Updated Price Model"
   ]
  },
  {
   "cell_type": "code",
   "execution_count": null,
   "metadata": {},
   "outputs": [],
   "source": [
    "#final_upd_data.to_csv('Final Table_updated.csv',index=False)"
   ]
  },
  {
   "cell_type": "markdown",
   "metadata": {},
   "source": [
    "---"
   ]
  },
  {
   "cell_type": "markdown",
   "metadata": {},
   "source": [
    "Updated Price Model - Performance"
   ]
  },
  {
   "cell_type": "code",
   "execution_count": null,
   "metadata": {},
   "outputs": [],
   "source": [
    "#upd_shared_per=len(final_upd_data[(final_upd_data['Shared Trip Authorized']==True) & (final_upd_data['Estimated price_other option']>final_upd_data.Fare)])/ len(final_upd_data[final_upd_data['Shared Trip Authorized']==True])\n",
    "#round(upd_shared_per,3)"
   ]
  },
  {
   "cell_type": "code",
   "execution_count": null,
   "metadata": {},
   "outputs": [],
   "source": [
    "#upd_exclusive_per=len(final_upd_data[(final_upd_data['Shared Trip Authorized']==False) & (final_upd_data.Fare>final_upd_data['Estimated price_other option'])])/ len(final_upd_data[final_upd_data['Shared Trip Authorized']==False])\n",
    "#round(upd_exclusive_per,3)"
   ]
  },
  {
   "cell_type": "markdown",
   "metadata": {},
   "source": [
    "-----"
   ]
  },
  {
   "cell_type": "markdown",
   "metadata": {},
   "source": [
    "Final Table and Feature Engineering"
   ]
  },
  {
   "cell_type": "code",
   "execution_count": 74,
   "metadata": {},
   "outputs": [],
   "source": [
    "riding_dist=sample_riding[['Trip ID','EstDistance']]"
   ]
  },
  {
   "cell_type": "code",
   "execution_count": 75,
   "metadata": {},
   "outputs": [],
   "source": [
    "pd.set_option('display.max_columns', None)\n",
    "final_combined=pd.merge(left=upd_price_data, right=riding_dist, left_on=['Trip ID'], right_on=['Trip ID'],how='inner')"
   ]
  },
  {
   "cell_type": "code",
   "execution_count": 76,
   "metadata": {},
   "outputs": [],
   "source": [
    "final_combined=final_combined.rename(columns={'Fare_x':'Actual Price','Trip Miles_x':'Trip Miles'})"
   ]
  },
  {
   "cell_type": "code",
   "execution_count": 77,
   "metadata": {},
   "outputs": [],
   "source": [
    "#final_combined.head()"
   ]
  },
  {
   "cell_type": "code",
   "execution_count": 78,
   "metadata": {},
   "outputs": [
    {
     "data": {
      "text/plain": [
       "3060271"
      ]
     },
     "execution_count": 78,
     "metadata": {},
     "output_type": "execute_result"
    }
   ],
   "source": [
    "len(final_combined)"
   ]
  },
  {
   "cell_type": "code",
   "execution_count": 79,
   "metadata": {},
   "outputs": [],
   "source": [
    "def ratio(dataset):\n",
    "    if dataset['Shared Trip Authorized']==False:\n",
    "        AddDist=(dataset.EstDistance-dataset['Trip Miles'])/dataset['Trip Miles']\n",
    "        return AddDist\n",
    "    else:\n",
    "        AddDist=(dataset['Trip Miles']-dataset.EstDistance)/dataset['EstDistance']\n",
    "        return AddDist"
   ]
  },
  {
   "cell_type": "code",
   "execution_count": 80,
   "metadata": {},
   "outputs": [
    {
     "data": {
      "text/plain": [
       "0"
      ]
     },
     "execution_count": 80,
     "metadata": {},
     "output_type": "execute_result"
    }
   ],
   "source": [
    "len(final_combined[final_combined['Trip Miles']==0])"
   ]
  },
  {
   "cell_type": "code",
   "execution_count": 81,
   "metadata": {},
   "outputs": [
    {
     "data": {
      "text/plain": [
       "0"
      ]
     },
     "execution_count": 81,
     "metadata": {},
     "output_type": "execute_result"
    }
   ],
   "source": [
    "len(final_combined[final_combined['EstDistance']==0])"
   ]
  },
  {
   "cell_type": "code",
   "execution_count": 82,
   "metadata": {},
   "outputs": [],
   "source": [
    "final_combined=final_combined[~(final_combined['Trip Miles']==0)]\n",
    "final_combined=final_combined[~(final_combined['EstDistance']==0)]"
   ]
  },
  {
   "cell_type": "code",
   "execution_count": 83,
   "metadata": {},
   "outputs": [],
   "source": [
    "final_combined['AddDistance'] = final_combined[['Shared Trip Authorized','Trip Miles','EstDistance']].apply(lambda row: ratio(row), axis=1)"
   ]
  },
  {
   "cell_type": "code",
   "execution_count": 84,
   "metadata": {},
   "outputs": [
    {
     "data": {
      "text/plain": [
       "0"
      ]
     },
     "execution_count": 84,
     "metadata": {},
     "output_type": "execute_result"
    }
   ],
   "source": [
    "len(final_combined[final_combined['AddDistance']<0])"
   ]
  },
  {
   "cell_type": "code",
   "execution_count": 85,
   "metadata": {},
   "outputs": [],
   "source": [
    "final_combined=final_combined[~(final_combined['AddDistance']<0)]"
   ]
  },
  {
   "cell_type": "code",
   "execution_count": 86,
   "metadata": {},
   "outputs": [
    {
     "data": {
      "text/plain": [
       "3060271"
      ]
     },
     "execution_count": 86,
     "metadata": {},
     "output_type": "execute_result"
    }
   ],
   "source": [
    "len(final_combined)"
   ]
  },
  {
   "cell_type": "code",
   "execution_count": 87,
   "metadata": {},
   "outputs": [],
   "source": [
    "def feature(dataset):\n",
    "    if dataset['Shared Trip Authorized']==False:\n",
    "        NewDist=dataset['Trip Miles']\n",
    "        return NewDist\n",
    "    else:\n",
    "        NewDist=dataset['EstDistance']\n",
    "        return NewDist"
   ]
  },
  {
   "cell_type": "code",
   "execution_count": 88,
   "metadata": {},
   "outputs": [],
   "source": [
    "final_combined['NewAtt_1'] = final_combined[['Shared Trip Authorized','Trip Miles','EstDistance']].apply(lambda row: feature(row), axis=1)"
   ]
  },
  {
   "cell_type": "code",
   "execution_count": 89,
   "metadata": {},
   "outputs": [],
   "source": [
    "final_combined['NewAtt_2']=final_combined['AddDistance']*final_combined['NewAtt_1']"
   ]
  },
  {
   "cell_type": "code",
   "execution_count": 90,
   "metadata": {},
   "outputs": [],
   "source": [
    "final_combined['NewAtt_3']= - final_combined['NewAtt_1']"
   ]
  },
  {
   "cell_type": "code",
   "execution_count": 92,
   "metadata": {},
   "outputs": [],
   "source": [
    "final_combined=final_combined[~(final_combined.isnull(). any(axis=1))]"
   ]
  },
  {
   "cell_type": "markdown",
   "metadata": {},
   "source": [
    "------"
   ]
  },
  {
   "cell_type": "markdown",
   "metadata": {},
   "source": [
    "Validation of Exclusive vs Shared Service"
   ]
  },
  {
   "cell_type": "code",
   "execution_count": null,
   "metadata": {},
   "outputs": [],
   "source": [
    "#deneme=final_combined[(final_combined['Shared Trip Authorized']) & (final_combined['Trips Pooled']==1)]"
   ]
  },
  {
   "cell_type": "code",
   "execution_count": null,
   "metadata": {},
   "outputs": [],
   "source": [
    "#len(deneme)"
   ]
  },
  {
   "cell_type": "code",
   "execution_count": null,
   "metadata": {},
   "outputs": [],
   "source": [
    "#zero_data=final_combined[final_combined['Actual Price']==0]"
   ]
  },
  {
   "cell_type": "code",
   "execution_count": null,
   "metadata": {},
   "outputs": [],
   "source": [
    "#zero_data.head()"
   ]
  },
  {
   "cell_type": "code",
   "execution_count": null,
   "metadata": {},
   "outputs": [],
   "source": [
    "#len(zero_data)"
   ]
  },
  {
   "cell_type": "code",
   "execution_count": null,
   "metadata": {},
   "outputs": [],
   "source": [
    "#case=final_combined[(final_combined['Pickup Census Tract']==17031839100) & (final_combined['Dropoff Census Tract']==17031330100)]"
   ]
  },
  {
   "cell_type": "markdown",
   "metadata": {},
   "source": [
    "------"
   ]
  },
  {
   "cell_type": "markdown",
   "metadata": {},
   "source": [
    "Splitting data into train and test"
   ]
  },
  {
   "cell_type": "code",
   "execution_count": 93,
   "metadata": {},
   "outputs": [],
   "source": [
    "def output(dataset):\n",
    "    if dataset['Shared Trip Authorized']==False:\n",
    "        Class=0\n",
    "        return Class\n",
    "    else:\n",
    "        Class=1\n",
    "        return Class"
   ]
  },
  {
   "cell_type": "code",
   "execution_count": 94,
   "metadata": {},
   "outputs": [],
   "source": [
    "final_combined['Class'] = final_combined[['Shared Trip Authorized']].apply(lambda row: output(row), axis=1)"
   ]
  },
  {
   "cell_type": "code",
   "execution_count": 95,
   "metadata": {},
   "outputs": [
    {
     "data": {
      "text/plain": [
       "3058560"
      ]
     },
     "execution_count": 95,
     "metadata": {},
     "output_type": "execute_result"
    }
   ],
   "source": [
    "len(final_combined)"
   ]
  },
  {
   "cell_type": "code",
   "execution_count": 96,
   "metadata": {},
   "outputs": [],
   "source": [
    "X=final_combined[['NewAtt_1','NewAtt_2','NewAtt_3']]"
   ]
  },
  {
   "cell_type": "code",
   "execution_count": 97,
   "metadata": {},
   "outputs": [],
   "source": [
    "y=final_combined['Class']"
   ]
  },
  {
   "cell_type": "code",
   "execution_count": 98,
   "metadata": {},
   "outputs": [],
   "source": [
    "from sklearn.model_selection import train_test_split"
   ]
  },
  {
   "cell_type": "code",
   "execution_count": 101,
   "metadata": {},
   "outputs": [
    {
     "data": {
      "text/html": [
       "<div>\n",
       "<style scoped>\n",
       "    .dataframe tbody tr th:only-of-type {\n",
       "        vertical-align: middle;\n",
       "    }\n",
       "\n",
       "    .dataframe tbody tr th {\n",
       "        vertical-align: top;\n",
       "    }\n",
       "\n",
       "    .dataframe thead th {\n",
       "        text-align: right;\n",
       "    }\n",
       "</style>\n",
       "<table border=\"1\" class=\"dataframe\">\n",
       "  <thead>\n",
       "    <tr style=\"text-align: right;\">\n",
       "      <th></th>\n",
       "      <th>NewAtt_1</th>\n",
       "      <th>NewAtt_2</th>\n",
       "      <th>NewAtt_3</th>\n",
       "    </tr>\n",
       "  </thead>\n",
       "  <tbody>\n",
       "    <tr>\n",
       "      <th>2869104</th>\n",
       "      <td>2.900000</td>\n",
       "      <td>0.870000</td>\n",
       "      <td>-2.900000</td>\n",
       "    </tr>\n",
       "    <tr>\n",
       "      <th>1766665</th>\n",
       "      <td>0.257333</td>\n",
       "      <td>1.042667</td>\n",
       "      <td>-0.257333</td>\n",
       "    </tr>\n",
       "    <tr>\n",
       "      <th>2926806</th>\n",
       "      <td>1.000000</td>\n",
       "      <td>0.300000</td>\n",
       "      <td>-1.000000</td>\n",
       "    </tr>\n",
       "    <tr>\n",
       "      <th>2087234</th>\n",
       "      <td>17.600000</td>\n",
       "      <td>5.280000</td>\n",
       "      <td>-17.600000</td>\n",
       "    </tr>\n",
       "    <tr>\n",
       "      <th>2204151</th>\n",
       "      <td>1.600000</td>\n",
       "      <td>0.480000</td>\n",
       "      <td>-1.600000</td>\n",
       "    </tr>\n",
       "  </tbody>\n",
       "</table>\n",
       "</div>"
      ],
      "text/plain": [
       "          NewAtt_1  NewAtt_2   NewAtt_3\n",
       "2869104   2.900000  0.870000  -2.900000\n",
       "1766665   0.257333  1.042667  -0.257333\n",
       "2926806   1.000000  0.300000  -1.000000\n",
       "2087234  17.600000  5.280000 -17.600000\n",
       "2204151   1.600000  0.480000  -1.600000"
      ]
     },
     "execution_count": 101,
     "metadata": {},
     "output_type": "execute_result"
    }
   ],
   "source": [
    "X_train.head()"
   ]
  },
  {
   "cell_type": "code",
   "execution_count": 100,
   "metadata": {},
   "outputs": [],
   "source": [
    "X_train, X_test, y_train, y_test = train_test_split(X, y, test_size=0.3, random_state=42)"
   ]
  },
  {
   "cell_type": "markdown",
   "metadata": {},
   "source": [
    "------"
   ]
  },
  {
   "cell_type": "markdown",
   "metadata": {},
   "source": [
    "Implement Logistic Regression model"
   ]
  },
  {
   "cell_type": "code",
   "execution_count": 102,
   "metadata": {},
   "outputs": [],
   "source": [
    "from sklearn.linear_model import LogisticRegression"
   ]
  },
  {
   "cell_type": "code",
   "execution_count": 103,
   "metadata": {},
   "outputs": [],
   "source": [
    "logmodel = LogisticRegression()"
   ]
  },
  {
   "cell_type": "code",
   "execution_count": 104,
   "metadata": {},
   "outputs": [],
   "source": [
    "logmodel.fit(X_train,y_train)\n",
    "predictions = logmodel.predict(X_test)"
   ]
  },
  {
   "cell_type": "code",
   "execution_count": 134,
   "metadata": {},
   "outputs": [
    {
     "data": {
      "text/plain": [
       "array([[-0.51535291,  3.0436928 ,  0.51535291]])"
      ]
     },
     "execution_count": 134,
     "metadata": {},
     "output_type": "execute_result"
    }
   ],
   "source": [
    "parameters= logmodel.coef_\n",
    "parameters"
   ]
  },
  {
   "cell_type": "code",
   "execution_count": 132,
   "metadata": {},
   "outputs": [
    {
     "data": {
      "text/plain": [
       "array([-1.77385263])"
      ]
     },
     "execution_count": 132,
     "metadata": {},
     "output_type": "execute_result"
    }
   ],
   "source": [
    "intercept=logmodel.intercept_\n",
    "intercept"
   ]
  },
  {
   "cell_type": "markdown",
   "metadata": {},
   "source": [
    "--------"
   ]
  },
  {
   "cell_type": "markdown",
   "metadata": {},
   "source": [
    "Evaluate performance of the model"
   ]
  },
  {
   "cell_type": "code",
   "execution_count": null,
   "metadata": {},
   "outputs": [],
   "source": [
    "import numpy as np\n",
    "import matplotlib.pyplot as plt\n",
    "import seaborn as sns\n",
    "%matplotlib inline"
   ]
  },
  {
   "cell_type": "code",
   "execution_count": 121,
   "metadata": {},
   "outputs": [
    {
     "data": {
      "text/plain": [
       "Text(0.5, 257.44, 'Predicted label')"
      ]
     },
     "execution_count": 121,
     "metadata": {},
     "output_type": "execute_result"
    },
    {
     "data": {
      "image/png": "[encoded data removed]",
      "text/plain": [
       "<Figure size 432x288 with 2 Axes>"
      ]
     },
     "metadata": {
      "needs_background": "light"
     },
     "output_type": "display_data"
    }
   ],
   "source": [
    "class_names=[0,1] # name  of classes\n",
    "fig, ax = plt.subplots()\n",
    "tick_marks = np.arange(len(class_names))\n",
    "plt.xticks(tick_marks, class_names)\n",
    "plt.yticks(tick_marks, class_names)\n",
    "# create heatmap\n",
    "sns.heatmap(pd.DataFrame(cnf), annot=True, cmap=\"YlGnBu\" ,fmt='g')\n",
    "ax.xaxis.set_label_position(\"top\")\n",
    "plt.tight_layout()\n",
    "plt.title('Confusion matrix', y=1.1)\n",
    "plt.ylabel('Actual label')\n",
    "plt.xlabel('Predicted label')"
   ]
  },
  {
   "cell_type": "code",
   "execution_count": 127,
   "metadata": {},
   "outputs": [
    {
     "name": "stdout",
     "output_type": "stream",
     "text": [
      "Accuracy: 0.9170383012485178\n",
      "Precision: 1.0\n",
      "Recall: 0.6232970600315721\n"
     ]
    }
   ],
   "source": [
    "from sklearn import metrics\n",
    "print(\"Accuracy:\",metrics.accuracy_score(y_test, predictions))\n",
    "print(\"Precision:\",metrics.precision_score(y_test, predictions))\n",
    "print(\"Recall:\",metrics.recall_score(y_test, predictions))"
   ]
  }
 ],
 "metadata": {
  "kernelspec": {
   "display_name": "Python 3",
   "language": "python",
   "name": "python3"
  },
  "language_info": {
   "codemirror_mode": {
    "name": "ipython",
    "version": 3
   },
   "file_extension": ".py",
   "mimetype": "text/x-python",
   "name": "python",
   "nbconvert_exporter": "python",
   "pygments_lexer": "ipython3",
   "version": "3.7.6"
  }
 },
 "nbformat": 4,
 "nbformat_minor": 4
}
